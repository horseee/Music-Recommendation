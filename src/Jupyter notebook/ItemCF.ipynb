{
 "cells": [
  {
   "cell_type": "markdown",
   "metadata": {},
   "source": [
    "# CF for item"
   ]
  },
  {
   "cell_type": "code",
   "execution_count": 1,
   "metadata": {},
   "outputs": [],
   "source": [
    "import numpy as np\n",
    "import numpy as np\n",
    "import time\n",
    "import scipy.sparse\n",
    "from scipy.sparse import lil_matrix"
   ]
  },
  {
   "cell_type": "markdown",
   "metadata": {},
   "source": [
    "### Load data"
   ]
  },
  {
   "cell_type": "code",
   "execution_count": 2,
   "metadata": {},
   "outputs": [],
   "source": [
    "# load train data\n",
    "f = open(\"data/processed_mean_data.dat\", 'r')\n",
    "user_mean_train = dict()\n",
    "user_max_train = dict()\n",
    "user_min_train = dict()\n",
    "user_total_train = dict()\n",
    "train_set = dict()\n",
    "song_to_user_dict = dict()\n",
    "\n",
    "for line in f:\n",
    "    user, mean, max_value, min_value, total_value = line.strip('\\n').split(' ')\n",
    "    user_mean_train[int(user)] = float(mean)\n",
    "    user_max_train[int(user)] = int(max_value)\n",
    "    user_min_train[int(user)] = int(min_value)\n",
    "    user_total_train[int(user)] = int(total_value)"
   ]
  },
  {
   "cell_type": "code",
   "execution_count": 3,
   "metadata": {},
   "outputs": [
    {
     "name": "stdout",
     "output_type": "stream",
     "text": [
      "Get Song item and its listener.\n",
      "Total User = 110000, Total Song = 386214\n",
      "Finish Getting All Song and its record\n"
     ]
    }
   ],
   "source": [
    "\n",
    "user_count = 110000\n",
    "song_count = 386214\n",
    "user_to_song =lil_matrix((song_count, user_count))\n",
    "#user_to_song = np.ones((user_count, song_count))\n",
    "print(\"Get Song item and its listener.\\nTotal User = %d, Total Song = %d\" % (user_count, song_count))\n",
    "\n",
    "f = open(\"data/processed_data.dat\", 'r')\n",
    "for line in f:\n",
    "    user, song, times = line.strip(\"\\n\").split(' ')\n",
    "    user_to_song[int(song), int(user)] = 1\n",
    "    user = int(user)\n",
    "    song = int(song)\n",
    "    if user not in train_set.keys():\n",
    "        train_set[user] = set([int(song)])\n",
    "    else:\n",
    "        train_set[user].add(int(song))\n",
    "    if song not in song_to_user_dict.keys():\n",
    "        song_to_user_dict[song] = set([user])\n",
    "    else:\n",
    "        song_to_user_dict[song].add(user)\n",
    "print(\"Finish Getting All Song and its record\")\n",
    "\n"
   ]
  },
  {
   "cell_type": "code",
   "execution_count": 4,
   "metadata": {},
   "outputs": [],
   "source": [
    "# load mean data\n",
    "f = open(\"data/result_mean_data.dat\", 'r')\n",
    "user_mean_result = dict()\n",
    "user_max_result = dict()\n",
    "user_min_result = dict()\n",
    "user_total_result = dict()\n",
    "result_set = dict()\n",
    "\n",
    "for line in f:\n",
    "    user, mean, max_value, min_value, total_value = line.strip('\\n').split(' ')\n",
    "    user_mean_result[int(user)] = float(mean)\n",
    "    user_max_result[int(user)] = int(max_value)\n",
    "    user_min_result[int(user)] = int(min_value)\n",
    "    user_total_result[int(user)] = int(total_value)\n",
    "\n",
    "f = open(\"data/result_data.dat\", 'r')\n",
    "for line in f:\n",
    "    user, song, time = line.strip(\"\\n\").split(' ')\n",
    "    user = int(user)\n",
    "    if user not in result_set.keys():\n",
    "        result_set[user] = set([int(song)])\n",
    "    else:\n",
    "        result_set[user].add(int(song))"
   ]
  },
  {
   "cell_type": "markdown",
   "metadata": {},
   "source": [
    "### Train Data for previous 1000 user ( array length )"
   ]
  },
  {
   "cell_type": "code",
   "execution_count": 48,
   "metadata": {},
   "outputs": [],
   "source": [
    "import math\n",
    "def CalSim(setA, setB):\n",
    "    dot = float(len(setA & setB))\n",
    "    if dot == 0:\n",
    "        return 0\n",
    "    lenA = float(math.pow(len(setA), 0.5))\n",
    "    lenB = float(math.pow(len(setB), 0.5))\n",
    "    return dot*1.0 /(lenA * lenB)"
   ]
  },
  {
   "cell_type": "code",
   "execution_count": 103,
   "metadata": {},
   "outputs": [
    {
     "name": "stdout",
     "output_type": "stream",
     "text": [
      "User : 0\n",
      "1 12985 0.793141\n",
      "7 127276 0.486848\n",
      "15 82113 0.346328\n",
      "21 233124 0.327441\n",
      "36 148050 0.261629\n",
      "5/7\n",
      "0.259297\n",
      "0.259297052154195\n",
      "5.979172999999946\n"
     ]
    }
   ],
   "source": [
    "user = 0\n",
    "total_score = 0 \n",
    "pre_time = time.clock()\n",
    "while (user < 100):\n",
    "    print(\"User : %d\" % user)\n",
    "    train_index = train_set[user]\n",
    "    SongScore = np.zeros(song_count, dtype = \"float32\")\n",
    "    for song in train_index:\n",
    "        setA = song_to_user_dict[song]\n",
    "        for s in range(song_count):\n",
    "            if s in train_index:\n",
    "                continue\n",
    "            if s not in song_to_user_dict.keys():\n",
    "                continue\n",
    "            setB = song_to_user_dict[s]\n",
    "            SimilarityScore = CalSim(setA, setB)\n",
    "            SongScore[s] += SimilarityScore\n",
    "    \n",
    "    indices = np.argsort(SongScore)\n",
    "    \n",
    "    correct = 0\n",
    "    score = 0\n",
    "    for i in range(100):\n",
    "        if indices[song_count -1 -i] in result_set[user]:\n",
    "            print(\"%d %d %5f\" % (i+1, indices[song_count -1 -i], SongScore[indices[song_count -1 -i]]))\n",
    "            correct += 1\n",
    "            score += correct / (i+1) / len(result_set[user])\n",
    "    print(\"%d/%d\" % (correct,len(result_set[user])))\n",
    "    print(\"%5f\" % score)\n",
    "    total_score += score\n",
    "    user += 1\n",
    "\n",
    "print(total_score)\n",
    "print(time.clock() - pre_time)"
   ]
  },
  {
   "cell_type": "code",
   "execution_count": null,
   "metadata": {},
   "outputs": [],
   "source": []
  },
  {
   "cell_type": "markdown",
   "metadata": {},
   "source": [
    "### Train Data for previous 1000 user ( matrix )"
   ]
  },
  {
   "cell_type": "code",
   "execution_count": 5,
   "metadata": {},
   "outputs": [],
   "source": [
    "import math\n",
    "normArray = np.zeros(song_count, dtype = \"float32\")\n",
    "for song in range(song_count):\n",
    "    score = 0\n",
    "    ul = user_to_song[song].data[0]\n",
    "    normArray[song] = math.sqrt(len(ul))\n",
    "    #for dat in ul:\n",
    "    #    score += dat * dat\n",
    "    #score = math.sqrt(score)\n",
    "    #"
   ]
  },
  {
   "cell_type": "code",
   "execution_count": 6,
   "metadata": {},
   "outputs": [],
   "source": [
    "import time"
   ]
  },
  {
   "cell_type": "code",
   "execution_count": 9,
   "metadata": {},
   "outputs": [
    {
     "name": "stdout",
     "output_type": "stream",
     "text": [
      "UserGroup : 0\n",
      "(1294, 110000)\n"
     ]
    },
    {
     "name": "stderr",
     "output_type": "stream",
     "text": [
      "/usr/local/lib/python3.6/site-packages/ipykernel_launcher.py:40: RuntimeWarning: invalid value encountered in true_divide\n"
     ]
    },
    {
     "name": "stdout",
     "output_type": "stream",
     "text": [
      "Group 1 time: 124.577751\n",
      "UserGroup : 1\n",
      "(1286, 110000)\n",
      "Group 2 time: 243.841756\n",
      "UserGroup : 2\n",
      "(1322, 110000)\n",
      "Group 3 time: 364.825268\n",
      "UserGroup : 3\n",
      "(1394, 110000)\n",
      "Group 4 time: 494.772429\n",
      "UserGroup : 4\n",
      "(1294, 110000)\n",
      "Group 5 time: 612.673405\n",
      "UserGroup : 5\n",
      "(1326, 110000)\n",
      "Group 6 time: 735.937015\n",
      "UserGroup : 6\n",
      "(1390, 110000)\n",
      "Group 7 time: 866.109443\n",
      "UserGroup : 7\n",
      "(1221, 110000)\n",
      "Group 8 time: 980.736780\n",
      "UserGroup : 8\n",
      "(1418, 110000)\n",
      "Group 9 time: 1121.771680\n",
      "UserGroup : 9\n",
      "(1305, 110000)\n",
      "Group 10 time: 1255.142049\n",
      "UserGroup : 10\n",
      "(1336, 110000)\n",
      "Group 11 time: 1407.700323\n",
      "UserGroup : 11\n",
      "(1208, 110000)\n",
      "Group 12 time: 1538.019258\n",
      "UserGroup : 12\n",
      "(1324, 110000)\n",
      "Group 13 time: 1673.230312\n",
      "UserGroup : 13\n",
      "(1402, 110000)\n",
      "Group 14 time: 1809.414684\n",
      "UserGroup : 14\n",
      "(1239, 110000)\n",
      "Group 15 time: 1929.544312\n",
      "UserGroup : 15\n",
      "(1308, 110000)\n",
      "Group 16 time: 2055.557348\n",
      "UserGroup : 16\n",
      "(1138, 110000)\n",
      "Group 17 time: 2163.997609\n",
      "UserGroup : 17\n",
      "(1385, 110000)\n",
      "Group 18 time: 2297.138042\n",
      "UserGroup : 18\n",
      "(1289, 110000)\n",
      "Group 19 time: 2421.471954\n",
      "UserGroup : 19\n",
      "(1449, 110000)\n",
      "Group 20 time: 2564.759016\n",
      "UserGroup : 20\n",
      "(1278, 110000)\n",
      "Group 21 time: 2691.669862\n",
      "UserGroup : 21\n",
      "(1359, 110000)\n",
      "Group 22 time: 2824.774960\n",
      "UserGroup : 22\n",
      "(1382, 110000)\n",
      "Group 23 time: 2957.279816\n",
      "UserGroup : 23\n",
      "(1331, 110000)\n",
      "Group 24 time: 3080.242552\n",
      "UserGroup : 24\n",
      "(1276, 110000)\n",
      "Group 25 time: 3198.443164\n",
      "UserGroup : 25\n",
      "(1211, 110000)\n",
      "Group 26 time: 3315.892434\n",
      "UserGroup : 26\n",
      "(1424, 110000)\n",
      "Group 27 time: 3448.856495\n",
      "UserGroup : 27\n",
      "(1416, 110000)\n",
      "Group 28 time: 3585.643859\n",
      "UserGroup : 28\n",
      "(1254, 110000)\n",
      "Group 29 time: 3708.316394\n",
      "UserGroup : 29\n",
      "(1424, 110000)\n",
      "Group 30 time: 3838.817457\n",
      "Map: 0.083951\n"
     ]
    }
   ],
   "source": [
    "pre_time = time.clock()\n",
    "UserGroup = 0\n",
    "GroupSize = 100\n",
    "total_score = 0\n",
    "while (UserGroup < 30):\n",
    "    print(\"UserGroup : %d\" % UserGroup)\n",
    "    \n",
    "    # initialize a (nUser * len) * 110000 matrix\n",
    "    firstUser = GroupSize * UserGroup\n",
    "    lengthMat = 0\n",
    "    for user in range(GroupSize):\n",
    "        lengthMat += len(train_set[user + firstUser])\n",
    "    MatA = np.zeros( (lengthMat, user_count) )\n",
    "    print(MatA.shape)\n",
    "    \n",
    "    ptr = 0\n",
    "    ptrList = [0]\n",
    "    songNorm = np.mat(np.eye(lengthMat))\n",
    "    for user in range(firstUser, firstUser + GroupSize):\n",
    "        train_index = train_set[user]\n",
    "        for ind in train_index:\n",
    "            songNorm[ptr, ptr] = 1 / normArray[ind]\n",
    "            rowIndex = user_to_song[ind].rows[0]\n",
    "            for rowNum in rowIndex:\n",
    "                MatA[ptr, rowNum] = user_to_song[ind, rowNum]\n",
    "            ptr += 1\n",
    "        ptrList.append(ptr)\n",
    "    \n",
    "    # (nUser*len) * 110000   *    110000 * song_count\n",
    "    resultMatrix = MatA * user_to_song.transpose()\n",
    "        \n",
    "    # row divide for the len of train_index\n",
    "    resultMatrix = songNorm * resultMatrix\n",
    "    # print(resultMatrix.shape)\n",
    "    \n",
    "    # do sum operation at the axis of y\n",
    "    ptr = 0\n",
    "    for user in range(firstUser, firstUser + GroupSize):\n",
    "        resultUserMatrix = np.sum(resultMatrix[ptrList[ptr]:ptrList[ptr + 1], :], axis = 0)\n",
    "        resultArray = resultUserMatrix / normArray\n",
    "        \n",
    "        for i in range(song_count):\n",
    "            if math.isnan(resultArray[0, i]):\n",
    "                resultArray[0, i] = 0\n",
    "        indices = np.argsort(resultArray)\n",
    "    \n",
    "        score = correct = 0\n",
    "        i = 0\n",
    "        song_ptr = 1\n",
    "        while song_ptr <= 100:\n",
    "            if indices[0, song_count -1 -i] in train_set[user]:\n",
    "                i += 1\n",
    "                continue\n",
    "            if indices[0, song_count -1 -i] in result_set[user]:\n",
    "                # print(\"rank: %d indice: %d value:%5f\" % (song_ptr, indices[0, song_count -1 -i], resultArray[0, indices[0, song_count -1 -i]] ))\n",
    "                correct += 1\n",
    "                score += correct / (song_ptr) / len(result_set[user])\n",
    "            i += 1\n",
    "            song_ptr += 1\n",
    "                \n",
    "        total_score += score\n",
    "        #print(\"user %d: %d / %d\" % (user, correct, len(result_set[user])))\n",
    "        #print(score)\n",
    "        ptr += 1\n",
    "        \n",
    "    UserGroup += 1\n",
    "    print(\"Group %d time: %5f\" %(UserGroup, time.clock()-pre_time))\n",
    "    \n",
    "\n",
    "print(\"Map: %5f\" % (total_score / 3000))"
   ]
  },
  {
   "cell_type": "code",
   "execution_count": 8,
   "metadata": {},
   "outputs": [
    {
     "name": "stdout",
     "output_type": "stream",
     "text": [
      "Map: 0.079196\n"
     ]
    }
   ],
   "source": [
    "print(\"Map: %5f\" % (total_score / 1000))"
   ]
  },
  {
   "cell_type": "code",
   "execution_count": null,
   "metadata": {},
   "outputs": [],
   "source": []
  },
  {
   "cell_type": "code",
   "execution_count": 97,
   "metadata": {},
   "outputs": [
    {
     "name": "stdout",
     "output_type": "stream",
     "text": [
      "User : 0\n",
      "[[ 1.  0.  0. ...,  0.  0.  0.]\n",
      " [ 1.  0.  0. ...,  0.  0.  0.]\n",
      " [ 1.  0.  0. ...,  0.  0.  0.]\n",
      " [ 1.  0.  0. ...,  0.  0.  0.]\n",
      " [ 1.  0.  0. ...,  0.  0.  0.]\n",
      " [ 1.  0.  0. ...,  0.  0.  0.]]\n",
      "(6, 110000)\n",
      "(386214, 110000)\n"
     ]
    },
    {
     "ename": "KeyboardInterrupt",
     "evalue": "",
     "output_type": "error",
     "traceback": [
      "\u001b[0;31m---------------------------------------------------------------------------\u001b[0m",
      "\u001b[0;31mKeyboardInterrupt\u001b[0m                         Traceback (most recent call last)",
      "\u001b[0;32m<ipython-input-97-c191ebdb9e3f>\u001b[0m in \u001b[0;36m<module>\u001b[0;34m()\u001b[0m\n\u001b[1;32m     19\u001b[0m     \u001b[0mprint\u001b[0m\u001b[0;34m(\u001b[0m\u001b[0mMatA\u001b[0m\u001b[0;34m.\u001b[0m\u001b[0mshape\u001b[0m\u001b[0;34m)\u001b[0m\u001b[0;34m\u001b[0m\u001b[0m\n\u001b[1;32m     20\u001b[0m     \u001b[0mprint\u001b[0m\u001b[0;34m(\u001b[0m\u001b[0muser_to_song\u001b[0m\u001b[0;34m.\u001b[0m\u001b[0mshape\u001b[0m\u001b[0;34m)\u001b[0m\u001b[0;34m\u001b[0m\u001b[0m\n\u001b[0;32m---> 21\u001b[0;31m     \u001b[0mresultMatrix\u001b[0m \u001b[0;34m=\u001b[0m \u001b[0mMatA\u001b[0m \u001b[0;34m*\u001b[0m \u001b[0muser_to_song\u001b[0m\u001b[0;34m.\u001b[0m\u001b[0mtranspose\u001b[0m\u001b[0;34m(\u001b[0m\u001b[0;34m)\u001b[0m\u001b[0;34m\u001b[0m\u001b[0m\n\u001b[0m\u001b[1;32m     22\u001b[0m \u001b[0;34m\u001b[0m\u001b[0m\n\u001b[1;32m     23\u001b[0m     \u001b[0;31m# row divide for the len of train_index\u001b[0m\u001b[0;34m\u001b[0m\u001b[0;34m\u001b[0m\u001b[0m\n",
      "\u001b[0;32m/usr/local/lib/python3.6/site-packages/scipy/sparse/base.py\u001b[0m in \u001b[0;36m__rmul__\u001b[0;34m(self, other)\u001b[0m\n\u001b[1;32m    508\u001b[0m             \u001b[0;32mexcept\u001b[0m \u001b[0mAttributeError\u001b[0m\u001b[0;34m:\u001b[0m\u001b[0;34m\u001b[0m\u001b[0m\n\u001b[1;32m    509\u001b[0m                 \u001b[0mtr\u001b[0m \u001b[0;34m=\u001b[0m \u001b[0mnp\u001b[0m\u001b[0;34m.\u001b[0m\u001b[0masarray\u001b[0m\u001b[0;34m(\u001b[0m\u001b[0mother\u001b[0m\u001b[0;34m)\u001b[0m\u001b[0;34m.\u001b[0m\u001b[0mtranspose\u001b[0m\u001b[0;34m(\u001b[0m\u001b[0;34m)\u001b[0m\u001b[0;34m\u001b[0m\u001b[0m\n\u001b[0;32m--> 510\u001b[0;31m             \u001b[0;32mreturn\u001b[0m \u001b[0;34m(\u001b[0m\u001b[0mself\u001b[0m\u001b[0;34m.\u001b[0m\u001b[0mtranspose\u001b[0m\u001b[0;34m(\u001b[0m\u001b[0;34m)\u001b[0m \u001b[0;34m*\u001b[0m \u001b[0mtr\u001b[0m\u001b[0;34m)\u001b[0m\u001b[0;34m.\u001b[0m\u001b[0mtranspose\u001b[0m\u001b[0;34m(\u001b[0m\u001b[0;34m)\u001b[0m\u001b[0;34m\u001b[0m\u001b[0m\n\u001b[0m\u001b[1;32m    511\u001b[0m \u001b[0;34m\u001b[0m\u001b[0m\n\u001b[1;32m    512\u001b[0m     \u001b[0;31m#####################################\u001b[0m\u001b[0;34m\u001b[0m\u001b[0;34m\u001b[0m\u001b[0m\n",
      "\u001b[0;32m/usr/local/lib/python3.6/site-packages/scipy/sparse/lil.py\u001b[0m in \u001b[0;36mtranspose\u001b[0;34m(self, axes, copy)\u001b[0m\n\u001b[1;32m    450\u001b[0m \u001b[0;34m\u001b[0m\u001b[0m\n\u001b[1;32m    451\u001b[0m     \u001b[0;32mdef\u001b[0m \u001b[0mtranspose\u001b[0m\u001b[0;34m(\u001b[0m\u001b[0mself\u001b[0m\u001b[0;34m,\u001b[0m \u001b[0maxes\u001b[0m\u001b[0;34m=\u001b[0m\u001b[0;32mNone\u001b[0m\u001b[0;34m,\u001b[0m \u001b[0mcopy\u001b[0m\u001b[0;34m=\u001b[0m\u001b[0;32mFalse\u001b[0m\u001b[0;34m)\u001b[0m\u001b[0;34m:\u001b[0m\u001b[0;34m\u001b[0m\u001b[0m\n\u001b[0;32m--> 452\u001b[0;31m         \u001b[0;32mreturn\u001b[0m \u001b[0mself\u001b[0m\u001b[0;34m.\u001b[0m\u001b[0mtocsr\u001b[0m\u001b[0;34m(\u001b[0m\u001b[0;34m)\u001b[0m\u001b[0;34m.\u001b[0m\u001b[0mtranspose\u001b[0m\u001b[0;34m(\u001b[0m\u001b[0maxes\u001b[0m\u001b[0;34m=\u001b[0m\u001b[0maxes\u001b[0m\u001b[0;34m,\u001b[0m \u001b[0mcopy\u001b[0m\u001b[0;34m=\u001b[0m\u001b[0mcopy\u001b[0m\u001b[0;34m)\u001b[0m\u001b[0;34m.\u001b[0m\u001b[0mtolil\u001b[0m\u001b[0;34m(\u001b[0m\u001b[0;34m)\u001b[0m\u001b[0;34m\u001b[0m\u001b[0m\n\u001b[0m\u001b[1;32m    453\u001b[0m \u001b[0;34m\u001b[0m\u001b[0m\n\u001b[1;32m    454\u001b[0m     \u001b[0mtranspose\u001b[0m\u001b[0;34m.\u001b[0m\u001b[0m__doc__\u001b[0m \u001b[0;34m=\u001b[0m \u001b[0mspmatrix\u001b[0m\u001b[0;34m.\u001b[0m\u001b[0mtranspose\u001b[0m\u001b[0;34m.\u001b[0m\u001b[0m__doc__\u001b[0m\u001b[0;34m\u001b[0m\u001b[0m\n",
      "\u001b[0;32m/usr/local/lib/python3.6/site-packages/scipy/sparse/base.py\u001b[0m in \u001b[0;36mtolil\u001b[0;34m(self, copy)\u001b[0m\n\u001b[1;32m    857\u001b[0m         \u001b[0mthe\u001b[0m \u001b[0mresultant\u001b[0m \u001b[0mlil_matrix\u001b[0m\u001b[0;34m.\u001b[0m\u001b[0;34m\u001b[0m\u001b[0m\n\u001b[1;32m    858\u001b[0m         \"\"\"\n\u001b[0;32m--> 859\u001b[0;31m         \u001b[0;32mreturn\u001b[0m \u001b[0mself\u001b[0m\u001b[0;34m.\u001b[0m\u001b[0mtocsr\u001b[0m\u001b[0;34m(\u001b[0m\u001b[0mcopy\u001b[0m\u001b[0;34m=\u001b[0m\u001b[0;32mFalse\u001b[0m\u001b[0;34m)\u001b[0m\u001b[0;34m.\u001b[0m\u001b[0mtolil\u001b[0m\u001b[0;34m(\u001b[0m\u001b[0mcopy\u001b[0m\u001b[0;34m=\u001b[0m\u001b[0mcopy\u001b[0m\u001b[0;34m)\u001b[0m\u001b[0;34m\u001b[0m\u001b[0m\n\u001b[0m\u001b[1;32m    860\u001b[0m \u001b[0;34m\u001b[0m\u001b[0m\n\u001b[1;32m    861\u001b[0m     \u001b[0;32mdef\u001b[0m \u001b[0mtodia\u001b[0m\u001b[0;34m(\u001b[0m\u001b[0mself\u001b[0m\u001b[0;34m,\u001b[0m \u001b[0mcopy\u001b[0m\u001b[0;34m=\u001b[0m\u001b[0;32mFalse\u001b[0m\u001b[0;34m)\u001b[0m\u001b[0;34m:\u001b[0m\u001b[0;34m\u001b[0m\u001b[0m\n",
      "\u001b[0;32m/usr/local/lib/python3.6/site-packages/scipy/sparse/csr.py\u001b[0m in \u001b[0;36mtolil\u001b[0;34m(self, copy)\u001b[0m\n\u001b[1;32m    145\u001b[0m     \u001b[0;32mdef\u001b[0m \u001b[0mtolil\u001b[0m\u001b[0;34m(\u001b[0m\u001b[0mself\u001b[0m\u001b[0;34m,\u001b[0m \u001b[0mcopy\u001b[0m\u001b[0;34m=\u001b[0m\u001b[0;32mFalse\u001b[0m\u001b[0;34m)\u001b[0m\u001b[0;34m:\u001b[0m\u001b[0;34m\u001b[0m\u001b[0m\n\u001b[1;32m    146\u001b[0m         \u001b[0;32mfrom\u001b[0m \u001b[0;34m.\u001b[0m\u001b[0mlil\u001b[0m \u001b[0;32mimport\u001b[0m \u001b[0mlil_matrix\u001b[0m\u001b[0;34m\u001b[0m\u001b[0m\n\u001b[0;32m--> 147\u001b[0;31m         \u001b[0mlil\u001b[0m \u001b[0;34m=\u001b[0m \u001b[0mlil_matrix\u001b[0m\u001b[0;34m(\u001b[0m\u001b[0mself\u001b[0m\u001b[0;34m.\u001b[0m\u001b[0mshape\u001b[0m\u001b[0;34m,\u001b[0m\u001b[0mdtype\u001b[0m\u001b[0;34m=\u001b[0m\u001b[0mself\u001b[0m\u001b[0;34m.\u001b[0m\u001b[0mdtype\u001b[0m\u001b[0;34m)\u001b[0m\u001b[0;34m\u001b[0m\u001b[0m\n\u001b[0m\u001b[1;32m    148\u001b[0m \u001b[0;34m\u001b[0m\u001b[0m\n\u001b[1;32m    149\u001b[0m         \u001b[0mself\u001b[0m\u001b[0;34m.\u001b[0m\u001b[0msum_duplicates\u001b[0m\u001b[0;34m(\u001b[0m\u001b[0;34m)\u001b[0m\u001b[0;34m\u001b[0m\u001b[0m\n",
      "\u001b[0;32m/usr/local/lib/python3.6/site-packages/scipy/sparse/lil.py\u001b[0m in \u001b[0;36m__init__\u001b[0;34m(self, arg1, shape, dtype, copy)\u001b[0m\n\u001b[1;32m    110\u001b[0m                 \u001b[0;32mfor\u001b[0m \u001b[0mi\u001b[0m \u001b[0;32min\u001b[0m \u001b[0mrange\u001b[0m\u001b[0;34m(\u001b[0m\u001b[0mM\u001b[0m\u001b[0;34m)\u001b[0m\u001b[0;34m:\u001b[0m\u001b[0;34m\u001b[0m\u001b[0m\n\u001b[1;32m    111\u001b[0m                     \u001b[0mself\u001b[0m\u001b[0;34m.\u001b[0m\u001b[0mrows\u001b[0m\u001b[0;34m[\u001b[0m\u001b[0mi\u001b[0m\u001b[0;34m]\u001b[0m \u001b[0;34m=\u001b[0m \u001b[0;34m[\u001b[0m\u001b[0;34m]\u001b[0m\u001b[0;34m\u001b[0m\u001b[0m\n\u001b[0;32m--> 112\u001b[0;31m                     \u001b[0mself\u001b[0m\u001b[0;34m.\u001b[0m\u001b[0mdata\u001b[0m\u001b[0;34m[\u001b[0m\u001b[0mi\u001b[0m\u001b[0;34m]\u001b[0m \u001b[0;34m=\u001b[0m \u001b[0;34m[\u001b[0m\u001b[0;34m]\u001b[0m\u001b[0;34m\u001b[0m\u001b[0m\n\u001b[0m\u001b[1;32m    113\u001b[0m             \u001b[0;32melse\u001b[0m\u001b[0;34m:\u001b[0m\u001b[0;34m\u001b[0m\u001b[0m\n\u001b[1;32m    114\u001b[0m                 \u001b[0;32mraise\u001b[0m \u001b[0mTypeError\u001b[0m\u001b[0;34m(\u001b[0m\u001b[0;34m'unrecognized lil_matrix constructor usage'\u001b[0m\u001b[0;34m)\u001b[0m\u001b[0;34m\u001b[0m\u001b[0m\n",
      "\u001b[0;31mKeyboardInterrupt\u001b[0m: "
     ]
    }
   ],
   "source": [
    "pre_time = time.clock()\n",
    "user = 0\n",
    "while (user < 10):\n",
    "    print(\"User : %d\" % user)\n",
    "    resultScore = np.zeros(song_count)\n",
    "    \n",
    "    # initialize a len * 110000 matrix\n",
    "    train_index = train_set[user]\n",
    "    MatA = np.zeros((len(train_index), user_count))\n",
    "    ptr = 0\n",
    "    for ind in train_index:\n",
    "        rowIndex = user_to_song[ind].rows[0]\n",
    "        for rowNum in rowIndex:\n",
    "            MatA[ptr, rowNum] = user_to_song[ind, rowNum]\n",
    "        ptr += 1\n",
    "    print(MatA)\n",
    "    \n",
    "    # len * 110000   *    110000 * song_count\n",
    "    print(MatA.shape)\n",
    "    print(user_to_song.shape)\n",
    "    resultMatrix = MatA * user_to_song.transpose()\n",
    "        \n",
    "    # row divide for the len of train_index\n",
    "    songNorm = np.mat(np.eye(len(train_index)))\n",
    "    ptr = 0\n",
    "    for song in train_index:\n",
    "        songNorm[ptr, ptr] = 1 / normArray[song] \n",
    "        ptr += 1\n",
    "    print(songNorm)\n",
    "    resultMatrix = songNorm * resultMatrix\n",
    "    \n",
    "    # do sum operation at the axis of y\n",
    "    resultMatrix = np.sum(resultMatrix, axis = 0)\n",
    "    resultArray = resultMatrix / normArray\n",
    "    \n",
    "    for i in range(song_count):\n",
    "        if math.isnan(resultArray[0, i]):\n",
    "            resultArray[0, i] = 0\n",
    "    indices = np.argsort(resultArray, axis = 1)\n",
    "    \n",
    "    correct = 0\n",
    "    for i in range(100):\n",
    "        if indices[0,song_count -1 -i] in result_set[user]:\n",
    "            print(\"%d %5f\" % (indices[ 0,song_count -1 -i], resultArray[0, indices[ 0,song_count -1 -i]] ))\n",
    "            correct += 1\n",
    "     \n",
    "    print(\"user %d: %d / %d\" % (user, correct, len(result_set[user])))\n",
    "        \n",
    "    user += 1\n",
    "    \n",
    "print(time.clock()-pre_time)\n"
   ]
  },
  {
   "cell_type": "code",
   "execution_count": null,
   "metadata": {},
   "outputs": [],
   "source": []
  },
  {
   "cell_type": "code",
   "execution_count": null,
   "metadata": {},
   "outputs": [],
   "source": []
  },
  {
   "cell_type": "code",
   "execution_count": null,
   "metadata": {},
   "outputs": [],
   "source": []
  },
  {
   "cell_type": "code",
   "execution_count": null,
   "metadata": {},
   "outputs": [],
   "source": []
  },
  {
   "cell_type": "code",
   "execution_count": null,
   "metadata": {},
   "outputs": [],
   "source": []
  },
  {
   "cell_type": "code",
   "execution_count": 284,
   "metadata": {},
   "outputs": [
    {
     "data": {
      "text/plain": [
       "{'127276', '12985', '148050', '233124', '297810', 385877, '82113'}"
      ]
     },
     "execution_count": 284,
     "metadata": {},
     "output_type": "execute_result"
    }
   ],
   "source": [
    "result_set[0]"
   ]
  },
  {
   "cell_type": "code",
   "execution_count": 167,
   "metadata": {},
   "outputs": [
    {
     "name": "stdout",
     "output_type": "stream",
     "text": [
      "rank: 0 , song: 311120\n",
      "rank: 1 , song: 311991\n",
      "rank: 2 , song: 24373\n",
      "rank: 3 , song: 213025\n",
      "rank: 4 , song: 133366\n",
      "rank: 5 , song: 140425\n",
      "rank: 6 , song: 324741\n",
      "rank: 7 , song: 62868\n",
      "rank: 8 , song: 9559\n",
      "rank: 9 , song: 57353\n"
     ]
    }
   ],
   "source": [
    "for i in range(10):\n",
    "    print(\"rank: %d , song: %d\" % (i, indices[song_count - 1 - i]))"
   ]
  },
  {
   "cell_type": "code",
   "execution_count": null,
   "metadata": {},
   "outputs": [],
   "source": []
  },
  {
   "cell_type": "code",
   "execution_count": 135,
   "metadata": {},
   "outputs": [],
   "source": [
    "def CalSim(vecA, vecB, x, y):\n",
    "    ptrA = ptrB = 0\n",
    "    score = 0\n",
    "    while ptrA < len(vecA) and ptrB < len(vecB):\n",
    "        if vecA[ptrA] == vecB[ptrB]:\n",
    "            score += user_to_song[x, vecA[ptrA]] * user_to_song[y, vecB[ptrB]]\n",
    "            ptrA += 1\n",
    "            ptrB += 1\n",
    "        elif vecA[ptrA] < vecB[ptrB]:\n",
    "            ptrA += 1\n",
    "        else :\n",
    "            ptrB += 1\n",
    "    return score / normArray[x] / normArray[y]"
   ]
  },
  {
   "cell_type": "code",
   "execution_count": 59,
   "metadata": {},
   "outputs": [],
   "source": [
    "user = 1\n",
    "train_index = train_set[user]\n",
    "MatA = np.zeros((len(train_index), user_count))\n",
    "ptr = 0\n",
    "for ind in train_index:\n",
    "    rowIndex = user_to_song[ind].rows[0]\n",
    "    for rowNum in rowIndex:\n",
    "        MatA[ptr, rowNum] = user_to_song[ind, rowNum]\n",
    "    ptr += 1"
   ]
  }
 ],
 "metadata": {
  "kernelspec": {
   "display_name": "Python 3",
   "language": "python",
   "name": "python3"
  },
  "language_info": {
   "codemirror_mode": {
    "name": "ipython",
    "version": 3
   },
   "file_extension": ".py",
   "mimetype": "text/x-python",
   "name": "python",
   "nbconvert_exporter": "python",
   "pygments_lexer": "ipython3",
   "version": "3.6.5"
  }
 },
 "nbformat": 4,
 "nbformat_minor": 2
}
